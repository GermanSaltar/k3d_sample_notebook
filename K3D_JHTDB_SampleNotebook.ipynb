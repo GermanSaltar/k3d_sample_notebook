{
 "cells": [
  {
   "cell_type": "markdown",
   "metadata": {},
   "source": [
    "# Channel Flow Example"
   ]
  },
  {
   "cell_type": "code",
   "execution_count": 1,
   "metadata": {},
   "outputs": [],
   "source": [
    "# Written for JHTDB by German G Saltar Rivera (2019)\n",
    "import pyJHTDB\n",
    "from pyJHTDB import libJHTDB\n",
    "import time as tt\n",
    "import numpy as np\n",
    "import k3d\n",
    "import ipywidgets as widgets\n",
    "from ipywidgets import interact, interactive, fixed\n",
    "import math\n",
    "from numpy import sin,cos,pi\n",
    "\n",
    "lJHTDB = libJHTDB()\n",
    "lJHTDB.initialize()\n",
    "\n",
    "#Add token\n",
    "auth_token  = \"edu.jhu.meneveau-hiSmxkae\" #Replace with your own token here\n",
    "lJHTDB.add_token(auth_token)\n",
    "\n",
    "#Set domain to be queried\n",
    "time = 0\n",
    "FD4Lag4 = 44\n",
    "\n",
    "deltax = 0.01\n",
    "deltay = 0.008\n",
    "deltaz = 0.008\n",
    "\n",
    "nx=100\n",
    "ny=100\n",
    "nz=100\n",
    "\n",
    "xmin, xmax = 0, deltax*nx\n",
    "ymin, ymax = -1, -1+deltay*ny\n",
    "zmin, zmax = 0, deltaz*nz"
   ]
  },
  {
   "cell_type": "code",
   "execution_count": 2,
   "metadata": {},
   "outputs": [
    {
     "name": "stdout",
     "output_type": "stream",
     "text": [
      "(1000000, 3)\n"
     ]
    }
   ],
   "source": [
    "#Creates query points and arranges their coordinates into the required (n,3)-type array\n",
    "points = np.zeros((nx*ny*nz,3),dtype='float32')\n",
    "\n",
    "x=np.linspace(xmin,xmax,nx,dtype='float32')\n",
    "y=np.linspace(ymin,ymax,ny,dtype='float32')\n",
    "z=np.linspace(zmin,zmax,nz,dtype='float32')\n",
    "\n",
    "count = 0\n",
    "\n",
    "for ii in range(np.size(x)):  \n",
    "    for jj in range(np.size(y)):\n",
    "        for kk in range(np.size(z)):\n",
    "            points[count,0] = x[ii]\n",
    "            points[count,1] = y[jj]\n",
    "            points[count,2] = z[kk]\n",
    "            count = count + 1 \n",
    "\n",
    "print(np.shape(points))"
   ]
  },
  {
   "cell_type": "code",
   "execution_count": null,
   "metadata": {},
   "outputs": [],
   "source": [
    "#Queries the velocity gradient from JHTDB\n",
    "start = tt.time()\n",
    "velgrad = lJHTDB.getData(\n",
    "    time, point_coords=points,sinterp = FD4Lag4,\n",
    "    data_set = 'channel',\n",
    "    getFunction = 'getVelocityGradient')\n",
    "\n",
    "lJHTDB.finalize()\n",
    "end = tt.time()\n",
    "print(end - start)\n",
    "print(velgrad.shape)"
   ]
  },
  {
   "cell_type": "code",
   "execution_count": null,
   "metadata": {},
   "outputs": [],
   "source": [
    "#Calculates the q-criterion\n",
    "qc = np.zeros((np.size(velgrad[:,0]),1))\n",
    "qc[:,0] = -0.5*(velgrad[:,0]**2+velgrad[:,4]**2+velgrad[:,8]**2+2*(velgrad[:,1]*velgrad[:,3]+velgrad[:,2]*velgrad[:,6]+velgrad[:,5]*velgrad[:,7]))\n",
    "\n",
    "count2 = 0\n",
    "qcriterion = np.zeros((nx,ny,nz))\n",
    "for ii in range(np.size(x)):\n",
    "       for jj in range(np.size(y)):\n",
    "        for kk in range(np.size(z)):\n",
    "            qcriterion[ii,jj,kk] = qc[count2]\n",
    "            count2 = count2 + 1\n",
    "\n",
    "print(qcriterion.shape)"
   ]
  },
  {
   "cell_type": "code",
   "execution_count": null,
   "metadata": {},
   "outputs": [],
   "source": [
    "#Creates a K3D-volume rendering object\n",
    "#In order to export the plot as html object, in the controls panel, click on \"Snapshot\"\n",
    "vol = k3d.volume(qcriterion, color_range=[2,100], color_map=np.array(k3d.basic_color_maps.Jet,dtype=np.float32), \n",
    "                        bounds=[xmin,xmax,ymin,ymax,zmin,zmax],\n",
    "                        alpha_coef=100,name=\"Channel Flow Q vizualization\")\n",
    "plt = k3d.plot()\n",
    "plt.camera_auto_fit = False\n",
    "plt.camera = [1.5,0.2,1.5,0,-1,-0.5,0,1,0]\n",
    "plt += vol \n",
    "plt.axes = ['x','y','z']\n",
    "plt.display()"
   ]
  },
  {
   "cell_type": "markdown",
   "metadata": {},
   "source": [
    "# Forced Isotropic Turbulence Example"
   ]
  },
  {
   "cell_type": "code",
   "execution_count": null,
   "metadata": {},
   "outputs": [],
   "source": [
    "#Set domain to be queried\n",
    "#Generates a 3D plot of Q iso-surface with overlayed kinetic energy volume \n",
    "#rendering in a [0,0.5]^3 subcube in isotropic turbulence\n",
    "\n",
    "time1 = 3.00\n",
    "\n",
    "nx1=80\n",
    "ny1=80\n",
    "nz1=80\n",
    "\n",
    "xmin1, xmax1 = 0, 0.5\n",
    "ymin1, ymax1 = 0, 0.5\n",
    "zmin1, zmax1 = 0, 0.5\n",
    "\n",
    "#Creates query points and arranges their coordinates into the required (n,3)-type array\n",
    "points1 = np.zeros((nx1*ny1*nz1,3),dtype='float32')\n",
    "\n",
    "x1=np.linspace(xmin1,xmax1,nx1,dtype='float32')\n",
    "y1=np.linspace(ymin1,ymax1,ny1,dtype='float32')\n",
    "z1=np.linspace(zmin1,zmax1,nz1,dtype='float32')\n",
    "count = 0\n",
    "\n",
    "for ii in range(np.size(x1)):  \n",
    "    for jj in range(np.size(y1)):    \n",
    "        for kk in range(np.size(z1)):   \n",
    "            points1[count,0] = x1[ii]\n",
    "            points1[count,1] = y1[jj]\n",
    "            points1[count,2] = z1[kk]\n",
    "            count = count + 1 "
   ]
  },
  {
   "cell_type": "code",
   "execution_count": null,
   "metadata": {},
   "outputs": [],
   "source": [
    "#Queries the velocity from JHTDB\n",
    "lJHTDB.initialize()\n",
    "start = tt.time()\n",
    "\n",
    "Lag4 = 4\n",
    "\n",
    "vel1 = lJHTDB.getData(\n",
    "    time1, point_coords=points1,sinterp = Lag4,\n",
    "    data_set = 'isotropic1024coarse',\n",
    "    getFunction = 'getVelocity')\n",
    "    \n",
    "end = tt.time()\n",
    "\n",
    "print(end - start)\n",
    "lJHTDB.finalize()\n",
    "print(vel1.shape)"
   ]
  },
  {
   "cell_type": "code",
   "execution_count": null,
   "metadata": {},
   "outputs": [],
   "source": [
    "#Queries the velocity gradient from JHTDB\n",
    "lJHTDB.initialize()\n",
    "start = tt.time()\n",
    "\n",
    "grad1 = lJHTDB.getData(\n",
    "    time1, point_coords=points1,sinterp = FD4Lag4,\n",
    "    data_set = 'isotropic1024coarse',\n",
    "    getFunction = 'getVelocityGradient')\n",
    "    \n",
    "end = tt.time()\n",
    "\n",
    "print(end - start)\n",
    "lJHTDB.finalize()\n",
    "print(grad1.shape)"
   ]
  },
  {
   "cell_type": "code",
   "execution_count": null,
   "metadata": {},
   "outputs": [],
   "source": [
    "#Calculates the q-criterion\n",
    "q1 = np.zeros((np.size(grad1[:,0]),1))\n",
    "q1[:,0] = -0.5*(grad1[:,0]**2+grad1[:,4]**2+grad1[:,8]**2+2*(grad1[:,1]*grad1[:,3]+grad1[:,2]*grad1[:,6]+grad1[:,5]*grad1[:,7]))\n",
    "\n",
    "#Calculates the kinetic energy\n",
    "e1 = np.zeros((np.size(vel1[:,0]),1))\n",
    "e1[:,0] = vel1[:,0]**2 + vel1[:,1]**2 + vel1[:,2]**2"
   ]
  },
  {
   "cell_type": "code",
   "execution_count": null,
   "metadata": {},
   "outputs": [],
   "source": [
    "#Arrange 1D arrays into 3D arrays\n",
    "qcrit = np.zeros((nx1,ny1,nz1))\n",
    "energ = np.zeros((nx1,ny1,nz1))\n",
    "\n",
    "count2 = 0\n",
    "for ii in range(nx1):\n",
    "    for jj in range(ny1):\n",
    "        for kk in range(nz1):\n",
    "            qcrit[ii,jj,kk] = q1[count2]\n",
    "            energ[ii,jj,kk] = e1[count2]\n",
    "            count2 += 1"
   ]
  },
  {
   "cell_type": "code",
   "execution_count": null,
   "metadata": {},
   "outputs": [],
   "source": [
    "#Creates a K3D isosurface object\n",
    "isosurface = k3d.marching_cubes(qcrit,xmin=xmin1,xmax=xmax1,ymin=ymin1,ymax=ymax1, zmin=zmin1, zmax=zmax1, \n",
    "                         level=250, color = 0xf4ea0e,name = 'isotropic: Q Isosurface')\n",
    "\n",
    "#Creates a K3D volume rendering object\n",
    "volume = k3d.volume(energ, color_range=[0.1*np.max(energ),0.8*np.max(energ)], color_map=np.array(k3d.basic_color_maps.Jet,dtype=np.float32), \n",
    "                        bounds=[xmin1,xmax1,ymin1,ymax1,zmin1,zmax1]\n",
    "                 ,alpha_coef=15,name=\"isotropic: kinetic energy\")\n",
    "\n",
    "plot = k3d.plot()\n",
    "plot.camera_auto_fit = True\n",
    "plot += volume \n",
    "plot += isosurface\n",
    "plot.axes = ['x','y','z']\n",
    "plot.display()"
   ]
  },
  {
   "cell_type": "code",
   "execution_count": null,
   "metadata": {},
   "outputs": [],
   "source": []
  }
 ],
 "metadata": {
  "kernelspec": {
   "display_name": "Python 3",
   "language": "python",
   "name": "python3"
  },
  "language_info": {
   "codemirror_mode": {
    "name": "ipython",
    "version": 3
   },
   "file_extension": ".py",
   "mimetype": "text/x-python",
   "name": "python",
   "nbconvert_exporter": "python",
   "pygments_lexer": "ipython3",
   "version": "3.7.1"
  }
 },
 "nbformat": 4,
 "nbformat_minor": 2
}
